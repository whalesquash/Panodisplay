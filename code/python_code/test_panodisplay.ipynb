{
 "cells": [
  {
   "cell_type": "markdown",
   "metadata": {},
   "source": [
    "# Display image with projector"
   ]
  },
  {
   "cell_type": "code",
   "execution_count": 2,
   "metadata": {},
   "outputs": [
    {
     "name": "stderr",
     "output_type": "stream",
     "text": [
      "C:\\MiniConda\\envs\\psychopanda\\lib\\site-packages\\ipykernel_launcher.py:35: RuntimeWarning: divide by zero encountered in remainder\n"
     ]
    },
    {
     "name": "stdout",
     "output_type": "stream",
     "text": [
      "q\n",
      "1098.0002 \tWARNING \tMonitor specification not found. Creating a temporary one...\n",
      "1098.0010 \tWARNING \tUser requested fullscreen with size [1280  800], but screen is actually [1280, 720]. Using actual size\n"
     ]
    }
   ],
   "source": [
    "from psychopy.visual import *\n",
    "from psychopy import core, monitors\n",
    "import numpy as np\n",
    "import cv2\n",
    "\n",
    "WIDTH, HEIGHT = 1280,800\n",
    "\n",
    "mon = monitors.Monitor('LightCrafter')\n",
    "mon.setSizePix([WIDTH,HEIGHT])\n",
    "mon.setGamma(1.0)\n",
    "\n",
    "win = Window(size=(WIDTH, HEIGHT), \n",
    "             monitor = mon, \n",
    "             units ='pix',\n",
    "             screen = 1,fullscr = True)\n",
    "\n",
    "\n",
    "#im = np.full((HEIGHT, WIDTH),127)\n",
    "im = cv2.imread('res/target.png')/255\n",
    "im = cv2.resize(im, (HEIGHT,HEIGHT))\n",
    "stims = []\n",
    "\n",
    "stims.append(ImageStim(win,image =im,units = 'pix',size = (im.shape[1],im.shape[0])))\n",
    "\n",
    "from psychopy import event\n",
    "quit = False\n",
    "i = 0\n",
    "\n",
    "while not quit:\n",
    "    keys = event.getKeys()\n",
    "    for key in keys:\n",
    "        print(key)\n",
    "        if 'ctrl' and 'q' in key:\n",
    "            quit = True\n",
    "    stims[int(np.mod(i,len(stims)-1))].draw(win)\n",
    "    i += 1\n",
    "    win.flip()\n",
    "win.close()"
   ]
  },
  {
   "cell_type": "code",
   "execution_count": 1,
   "metadata": {},
   "outputs": [
    {
     "name": "stdout",
     "output_type": "stream",
     "text": [
      "pygame 1.9.4\n",
      "Hello from the pygame community. https://www.pygame.org/contribute.html\n"
     ]
    }
   ],
   "source": [
    "# Test panodisplay\n",
    "\n",
    "from __future__ import division\n",
    "from builtins import range\n",
    "from builtins import object\n",
    "from past.utils import old_div\n",
    "import numpy as np\n",
    "import time\n",
    "import pyglet\n",
    "from pyglet.window import key\n",
    "from psychopy import core, logging, monitors, event\n",
    "from psychopy.visual import *\n",
    "from psychopy.visual.windowwarp import *\n",
    "from psychopy.visual.windowframepack import *\n",
    "\n",
    "\n"
   ]
  },
  {
   "cell_type": "code",
   "execution_count": 1,
   "metadata": {},
   "outputs": [
    {
     "name": "stdout",
     "output_type": "stream",
     "text": [
      "pygame 1.9.4\n",
      "Hello from the pygame community. https://www.pygame.org/contribute.html\n",
      "1.2126 \tWARNING \tMonitor specification not found. Creating a temporary one...\n"
     ]
    }
   ],
   "source": [
    "from psychopy import core, monitors\n",
    "from psychopy.visual import *\n",
    "from psychopy.visual.windowwarp import *\n",
    "from PIL import Image\n",
    "\n",
    "from PanoImage import PanoImage\n",
    "from PanoDisplay import PanoDisplay\n",
    "\n",
    "mon = monitors.Monitor('AaxaP300')#fetch the most recent calib for this monitor\n",
    "mon.setDistance(5)#further away than normal?\n",
    "mon.setSizePix([1920,1080])\n",
    "mon.setWidth(50)\n",
    "\n",
    "win = Window(size=(1200, 600), monitor = mon)\n",
    "#win.size = [3000,500]\n",
    "\n",
    "#setup stimulus\n",
    "gabor = GratingStim(win, units='deg', pos=(0, 80), tex='sin', mask='circle', sf=0.025, size = [80,20],\n",
    "    name='gabor', autoLog=False)\n",
    "gabor2 = GratingStim(win, units='deg', pos=(0, 0), tex='sin', mask='circle', sf=0.1, size = [20,20],\n",
    "    name='gabor', autoLog=False)\n",
    "\n",
    "#clock = core.Clock()\n",
    "#let's draw a stimulus for 200 frames, drifting for frames 50:100\n",
    "for frameN in range(400):#for exactly 200 frames\n",
    "    #if 10 <= frameN < 150:  # present fixation for a subset of frames\n",
    "     #   fixation.draw()\n",
    "    if 50 <= frameN < 350:  # present stim for a different subset\n",
    "        gabor.setPhase(0.01, '+')  # increment by 10th of cycle\n",
    "        gabor.draw()\n",
    "        gabor2.setPhase(0.01, '+')  # increment by 10th of cycle\n",
    "        gabor2.draw()\n",
    "    win.flip()\n",
    "gabor.draw()\n",
    "gabor2.draw()\n",
    "win.flip()\n",
    "#im = Image.new(\"RGB\", (1280, 800), \"white\")\n",
    "win._getFrame().save(\"test_panodisplay.png\")\n",
    "#print(win.projectionMatrix)\n",
    "#im.paste(im2, (20,20))\n",
    "\n",
    "win.close()"
   ]
  },
  {
   "cell_type": "code",
   "execution_count": 2,
   "metadata": {
    "scrolled": false
   },
   "outputs": [
    {
     "name": "stdout",
     "output_type": "stream",
     "text": [
      "72.0924 \tWARNING \tMonitor specification not found. Creating a temporary one...\n"
     ]
    }
   ],
   "source": [
    "from psychopy import core, monitors\n",
    "from psychopy.visual import *\n",
    "from psychopy.visual.windowwarp import *\n",
    "from PIL import Image\n",
    "\n",
    "from PanoImage import PanoImage\n",
    "from PanoDisplay import PanoDisplay\n",
    "import cv2\n",
    "import numpy as np\n",
    "mon = monitors.Monitor('AaxaP300')#fetch the most recent calib for this monitor\n",
    "mon.setDistance(5)#further away than normal?\n",
    "mon.setSizePix([1920,1080])\n",
    "mon.setWidth(50)\n",
    "\n",
    "win = Window(size=(1000, 500), monitor = mon)\n",
    "#setup stimulus\n",
    "gabor = GratingStim(win, units='deg', pos=(0, 0), tex='sin', mask='circle', sf=0.125, size = [20,20],\n",
    "    name='gabor', autoLog=False, ori = 45)\n",
    "\n",
    "gabor.setPhase(0.05, '+') \n",
    "gabor.draw()\n",
    "\n",
    "im = win._getFrame(buffer = 'back')\n",
    "\n",
    "cv2.imwrite('test_45.png', np.asarray(im))\n",
    "\n",
    "win.close()\n",
    "\n",
    "\n",
    "\n"
   ]
  },
  {
   "cell_type": "code",
   "execution_count": 1,
   "metadata": {},
   "outputs": [],
   "source": [
    "from PanoDisplay import PanoDisplay\n",
    "import os\n",
    "\n",
    "for file in os.listdir('calib'):\n",
    "    if file.endswith(\".png\"):\n",
    "        try:\n",
    "            PanoDisplay('calib/' + file).run()\n",
    "        except SystemExit:\n",
    "            pass"
   ]
  },
  {
   "cell_type": "code",
   "execution_count": 3,
   "metadata": {},
   "outputs": [
    {
     "ename": "KeyboardInterrupt",
     "evalue": "",
     "output_type": "error",
     "traceback": [
      "\u001b[1;31m---------------------------------------------------------------------------\u001b[0m",
      "\u001b[1;31mKeyboardInterrupt\u001b[0m                         Traceback (most recent call last)",
      "\u001b[1;32m<ipython-input-3-c049e9321b46>\u001b[0m in \u001b[0;36m<module>\u001b[1;34m\u001b[0m\n\u001b[0;32m     39\u001b[0m \u001b[1;33m\u001b[0m\u001b[0m\n\u001b[0;32m     40\u001b[0m         \u001b[0ma\u001b[0m \u001b[1;33m=\u001b[0m \u001b[0mPanoImage\u001b[0m\u001b[1;33m(\u001b[0m\u001b[0mim\u001b[0m\u001b[1;33m,\u001b[0m\u001b[0mpos_angles\u001b[0m\u001b[1;33m=\u001b[0m\u001b[1;33m[\u001b[0m\u001b[1;36m0\u001b[0m\u001b[1;33m,\u001b[0m\u001b[1;36m0\u001b[0m\u001b[1;33m]\u001b[0m\u001b[1;33m)\u001b[0m\u001b[1;33m\u001b[0m\u001b[1;33m\u001b[0m\u001b[0m\n\u001b[1;32m---> 41\u001b[1;33m         \u001b[0mb\u001b[0m \u001b[1;33m=\u001b[0m \u001b[0ma\u001b[0m\u001b[1;33m.\u001b[0m\u001b[0mapply\u001b[0m\u001b[1;33m(\u001b[0m\u001b[1;33m)\u001b[0m\u001b[1;33m.\u001b[0m\u001b[0mtoPano\u001b[0m\u001b[1;33m(\u001b[0m\u001b[0mxmap\u001b[0m\u001b[1;33m,\u001b[0m\u001b[0mymap\u001b[0m\u001b[1;33m)\u001b[0m\u001b[1;33m\u001b[0m\u001b[1;33m\u001b[0m\u001b[0m\n\u001b[0m\u001b[0;32m     42\u001b[0m \u001b[1;33m\u001b[0m\u001b[0m\n\u001b[0;32m     43\u001b[0m         \u001b[0mstim\u001b[0m\u001b[1;33m.\u001b[0m\u001b[0msetImage\u001b[0m\u001b[1;33m(\u001b[0m\u001b[0mImage\u001b[0m\u001b[1;33m.\u001b[0m\u001b[0mfromarray\u001b[0m\u001b[1;33m(\u001b[0m\u001b[0mb\u001b[0m\u001b[1;33m)\u001b[0m\u001b[1;33m)\u001b[0m\u001b[1;33m\u001b[0m\u001b[1;33m\u001b[0m\u001b[0m\n",
      "\u001b[1;31mKeyboardInterrupt\u001b[0m: "
     ]
    }
   ],
   "source": [
    "from psychopy import core, monitors\n",
    "from psychopy.visual import *\n",
    "from psychopy.visual.windowwarp import *\n",
    "from PIL import Image\n",
    "\n",
    "from PanoImage import PanoImage\n",
    "from PanoDisplay import PanoDisplay\n",
    "import cv2\n",
    "import time\n",
    "\n",
    "mon = monitors.Monitor('AaxaP300')#fetch the most recent calib for this monitor\n",
    "mon.setDistance(5)#further away than normal?\n",
    "mon.setSizePix([1920,1080])\n",
    "mon.setWidth(50)\n",
    "\n",
    "win = Window(size=(1280, 800), monitor = mon, pos = (1280,0))\n",
    "\n",
    "#setup stimulus\n",
    "gabor = GratingStim(win, units='deg', pos=(0, 0), tex='sin', mask='circle', sf=0.025, size = [20,20],\n",
    "    name='gabor', autoLog=False)\n",
    "\n",
    "stim = ImageStim(win)\n",
    "\n",
    "import numpy as np\n",
    "xmap = np.loadtxt('res/xmap.txt', dtype=np.float32)\n",
    "ymap = np.loadtxt('res/ymap.txt', dtype=np.float32)\n",
    "\n",
    "#clock = core.Clock()\n",
    "#let's draw a stimulus for 200 frames, drifting for frames 50:100\n",
    "\n",
    "for frameN in range(4000):#for exactly 200 frames\n",
    "    #if 10 <= frameN < 150:  # present fixation for a subset of frames\n",
    "     #   fixation.draw()\n",
    "    if 50 <= frameN < 3800:  # present stim for a different subset\n",
    "        gabor.setPhase(0.01, '+')  # increment by 10th of cycle\n",
    "        #gabor.pos += (1, 0) \n",
    "        gabor.draw()\n",
    "        im = win._getFrame(buffer='back')\n",
    "        \n",
    "        a = PanoImage(im,pos_angles=[0,0])\n",
    "        b = a.apply().toPano(xmap,ymap)\n",
    "        \n",
    "        stim.setImage(Image.fromarray(b))\n",
    "        stim.draw(win)\n",
    "    win.flip()\n",
    "'''\n",
    "im = cv2.imread('res/cat.png')\n",
    "stim.setImage(Image.fromarray(im))\n",
    "stim.draw(win)\n",
    "win.flip()\n",
    "time.sleep(3000)\n",
    "'''\n",
    "win.close()"
   ]
  },
  {
   "cell_type": "markdown",
   "metadata": {},
   "source": [
    "# Minimal example to show that all pixels are addressed"
   ]
  },
  {
   "cell_type": "code",
   "execution_count": 1,
   "metadata": {},
   "outputs": [],
   "source": [
    "import numpy as np\n",
    "xmap = np.loadtxt('res/xmap.txt', dtype=np.float32)\n",
    "ymap = np.loadtxt('res/ymap.txt', dtype=np.float32)\n"
   ]
  },
  {
   "cell_type": "code",
   "execution_count": 4,
   "metadata": {},
   "outputs": [],
   "source": [
    "ImageStim?"
   ]
  },
  {
   "cell_type": "code",
   "execution_count": 1,
   "metadata": {},
   "outputs": [
    {
     "name": "stdout",
     "output_type": "stream",
     "text": [
      "pygame 1.9.4\n",
      "Hello from the pygame community. https://www.pygame.org/contribute.html\n"
     ]
    },
    {
     "ename": "ModuleNotFoundError",
     "evalue": "No module named 'loop'",
     "output_type": "error",
     "traceback": [
      "\u001b[1;31m---------------------------------------------------------------------------\u001b[0m",
      "\u001b[1;31mModuleNotFoundError\u001b[0m                       Traceback (most recent call last)",
      "\u001b[1;32m<ipython-input-1-4ed6796f4d1b>\u001b[0m in \u001b[0;36m<module>\u001b[1;34m\u001b[0m\n\u001b[0;32m      4\u001b[0m \u001b[1;32mfrom\u001b[0m \u001b[0mPIL\u001b[0m \u001b[1;32mimport\u001b[0m \u001b[0mImage\u001b[0m\u001b[1;33m\u001b[0m\u001b[1;33m\u001b[0m\u001b[0m\n\u001b[0;32m      5\u001b[0m \u001b[1;33m\u001b[0m\u001b[0m\n\u001b[1;32m----> 6\u001b[1;33m \u001b[1;32mfrom\u001b[0m \u001b[0mPanoImage\u001b[0m \u001b[1;32mimport\u001b[0m \u001b[0mPanoImage\u001b[0m\u001b[1;33m\u001b[0m\u001b[1;33m\u001b[0m\u001b[0m\n\u001b[0m\u001b[0;32m      7\u001b[0m \u001b[1;32mfrom\u001b[0m \u001b[0mPanoDisplay\u001b[0m \u001b[1;32mimport\u001b[0m \u001b[0mPanoDisplay\u001b[0m\u001b[1;33m\u001b[0m\u001b[1;33m\u001b[0m\u001b[0m\n\u001b[0;32m      8\u001b[0m \u001b[1;32mimport\u001b[0m \u001b[0mcv2\u001b[0m\u001b[1;33m\u001b[0m\u001b[1;33m\u001b[0m\u001b[0m\n",
      "\u001b[1;32m~\\Documents\\Python_code\\panodisplay\\code\\PanoImage.py\u001b[0m in \u001b[0;36m<module>\u001b[1;34m\u001b[0m\n\u001b[0;32m      6\u001b[0m \u001b[1;32mimport\u001b[0m \u001b[0mcv2\u001b[0m\u001b[1;33m\u001b[0m\u001b[1;33m\u001b[0m\u001b[0m\n\u001b[0;32m      7\u001b[0m \u001b[1;32mfrom\u001b[0m \u001b[0mtime\u001b[0m \u001b[1;32mimport\u001b[0m \u001b[0mtime\u001b[0m\u001b[1;33m\u001b[0m\u001b[1;33m\u001b[0m\u001b[0m\n\u001b[1;32m----> 8\u001b[1;33m \u001b[1;32mfrom\u001b[0m \u001b[0mloop\u001b[0m \u001b[1;32mimport\u001b[0m \u001b[0mloop\u001b[0m\u001b[1;33m\u001b[0m\u001b[1;33m\u001b[0m\u001b[0m\n\u001b[0m\u001b[0;32m      9\u001b[0m \u001b[1;33m\u001b[0m\u001b[0m\n\u001b[0;32m     10\u001b[0m \u001b[1;32mclass\u001b[0m \u001b[0mPanoImage\u001b[0m\u001b[1;33m:\u001b[0m\u001b[1;33m\u001b[0m\u001b[1;33m\u001b[0m\u001b[0m\n",
      "\u001b[1;31mModuleNotFoundError\u001b[0m: No module named 'loop'"
     ]
    }
   ],
   "source": [
    "\n",
    "from psychopy import core, monitors\n",
    "from psychopy.visual import *\n",
    "from PIL import Image\n",
    "\n",
    "from PanoImage import PanoImage\n",
    "from PanoDisplay import PanoDisplay\n",
    "import cv2\n",
    "import time\n",
    "\n",
    "WIDTH = int(1280)#./1.5)\n",
    "HEIGHT = int(720)#./1.5)\n",
    "\n",
    "mon = monitors.Monitor('AaxaP300')#fetch the most recent calib for this monitor\n",
    "#mon.setDistance(5)#further away than normal?\n",
    "mon.setSizePix([WIDTH,HEIGHT])\n",
    "#mon.setWidth(50)\n",
    "mon.setGamma(1.2)\n",
    "\n",
    "win = Window(size=(WIDTH, HEIGHT), \n",
    "             monitor = mon, \n",
    "             units ='pix',\n",
    "             screen = 1,fullscreen = True)# pos = (1280,0))\n",
    "\n",
    "\n",
    "# im = cv2.imread('res/test_45.png')\n",
    "# im = cv2.imread('res/checkerboard.png')\n",
    "im = cv2.imread('res/bar.bmp')\n",
    "\n",
    "im  = im[:,:,0]\n",
    "im = cv2.flip(im, 0)\n",
    "#im = np.hstack((im[:,-int(im.shape[1]/2):], im[:,:int(im.shape[1]/2)]))\n",
    "im = cv2.resize(im,(500,250))\n",
    "im = np.float32(im)/255\n",
    "resized_im = np.full((2048,2048), 127, dtype=np.float32)\n",
    "resized_im[:im.shape[0], : im.shape[1]] = im\n",
    "\n",
    "new_im = cv2.remap(resized_im,xmap,ymap,cv2.INTER_LINEAR, None,cv2.BORDER_REPLICATE)\n",
    "new_im = cv2.resize(new_im,(HEIGHT,HEIGHT))\n",
    "\n",
    "d_im = np.full((HEIGHT,WIDTH), 127, dtype=np.float32)\n",
    "MARGIN = int((WIDTH - HEIGHT) /2)\n",
    "d_im[:new_im.shape[0], \n",
    "     MARGIN: new_im.shape[1]+MARGIN] = new_im#\n",
    "\n",
    "#d_im = cv2.flip(d_im, 1)\n",
    "stim = ImageStim(win,image =new_im,units = 'pix',size = new_im.shape)\n",
    "\n",
    "\n",
    "\n",
    "\n",
    "from psychopy import event\n",
    "quit = True\n",
    "while quit:\n",
    "    keys = event.getKeys()\n",
    "    for key in keys:\n",
    "        print(key)\n",
    "        if 'ctrl' and 'q' in key:\n",
    "            quit = False\n",
    "    stim.draw(win)\n",
    "    win.flip()\n",
    "win.close()\n"
   ]
  },
  {
   "cell_type": "code",
   "execution_count": 7,
   "metadata": {},
   "outputs": [
    {
     "data": {
      "text/plain": [
       "(720, 720, 3)"
      ]
     },
     "execution_count": 7,
     "metadata": {},
     "output_type": "execute_result"
    }
   ],
   "source": [
    "#import pylab as plt\n",
    "#%matplotlib notebook\n",
    "#plt.imshow(d_im)\n",
    "core.clo"
   ]
  }
 ],
 "metadata": {
  "kernelspec": {
   "display_name": "Python 3",
   "language": "python",
   "name": "python3"
  },
  "language_info": {
   "codemirror_mode": {
    "name": "ipython",
    "version": 3
   },
   "file_extension": ".py",
   "mimetype": "text/x-python",
   "name": "python",
   "nbconvert_exporter": "python",
   "pygments_lexer": "ipython3",
   "version": "3.7.2"
  }
 },
 "nbformat": 4,
 "nbformat_minor": 2
}
